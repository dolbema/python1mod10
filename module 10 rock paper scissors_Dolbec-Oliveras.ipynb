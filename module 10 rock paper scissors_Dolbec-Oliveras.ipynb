{
 "cells": [
  {
   "cell_type": "code",
   "execution_count": null,
   "id": "7cc94d03-362e-41cf-95bc-4b22dacff4e3",
   "metadata": {},
   "outputs": [],
   "source": [
    "#Create a program where the user can play a game of rock, paper, scissors against a computer. \n",
    "#Set a play choice (rock, paper, or scissors) for the computer player and during the program, \n",
    "#request for the user to input their play choice.\n",
    "\n",
    "#The rules in Rock, Paper, Scissors are:\n",
    "\n",
    "#Rock beats scissors\n",
    "#Scissors beats paper\n",
    "#Paper beats rock\n",
    "#If the user wins, then display \"You win!\" \n",
    "#If they lose against the computer, then display \"You lose.\" \n",
    "#If the computer and the user have the same play choice, display \"It's a draw.\"\n",
    "\n",
    "##BONUS: Randomize the play choice for the computer (hint: Python has a library called random). \n",
    "##Also ask the user if they would like to play again. \n",
    "##If they do, start the game again but if not, thank the user for playing the game."
   ]
  },
  {
   "cell_type": "code",
   "execution_count": 9,
   "id": "84900049-6cce-4f54-8873-8d015c8c61f6",
   "metadata": {},
   "outputs": [],
   "source": [
    "import random as rand #importing random so that computer can randomly select from 3 choices\n",
    "\n",
    "\n",
    "\n"
   ]
  },
  {
   "cell_type": "code",
   "execution_count": 14,
   "id": "c8474d0c-0669-4209-8448-9a66d1f1663e",
   "metadata": {},
   "outputs": [
    {
     "name": "stdout",
     "output_type": "stream",
     "text": [
      "Welcome to Rock, Paper, Scissors!\n"
     ]
    },
    {
     "name": "stdin",
     "output_type": "stream",
     "text": [
      "Please select a play choice: rock, paper, or scissors:  papwe\n"
     ]
    },
    {
     "name": "stdout",
     "output_type": "stream",
     "text": [
      "Invalid choice. Please enter rock, paper, or scissors.\n"
     ]
    },
    {
     "name": "stdin",
     "output_type": "stream",
     "text": [
      "Please select a play choice: rock, paper, or scissors:  paper\n"
     ]
    },
    {
     "name": "stdout",
     "output_type": "stream",
     "text": [
      "You chose: paper\n",
      "The computer chose: rock\n",
      "You win!\n"
     ]
    },
    {
     "name": "stdin",
     "output_type": "stream",
     "text": [
      "Do you want to play again? (yes/no):  yes\n",
      "Please select a play choice: rock, paper, or scissors:  rock\n"
     ]
    },
    {
     "name": "stdout",
     "output_type": "stream",
     "text": [
      "You chose: rock\n",
      "The computer chose: rock\n",
      "It's a draw.\n"
     ]
    },
    {
     "name": "stdin",
     "output_type": "stream",
     "text": [
      "Do you want to play again? (yes/no):  yes\n",
      "Please select a play choice: rock, paper, or scissors:  scissors\n"
     ]
    },
    {
     "name": "stdout",
     "output_type": "stream",
     "text": [
      "You chose: scissors\n",
      "The computer chose: rock\n",
      "You lose.\n"
     ]
    },
    {
     "name": "stdin",
     "output_type": "stream",
     "text": [
      "Do you want to play again? (yes/no):  no\n"
     ]
    }
   ],
   "source": [
    "def get_user_choice():\n",
    "    while True:\n",
    "        user_play = input(\"Please select a play choice: rock, paper, or scissors: \").lower()\n",
    "        if user_play in ['rock', 'paper', 'scissors']:\n",
    "            return user_play\n",
    "        else:\n",
    "            print(\"Invalid choice. Please enter rock, paper, or scissors.\")\n",
    "\n",
    "def get_computer_choice():\n",
    "    return rand.choice(['rock', 'paper', 'scissors'])\n",
    "\n",
    "def determine_winner(user_play, computer_choice):\n",
    "    if user_play == computer_choice:\n",
    "        return \"It's a draw.\"\n",
    "    elif (user_play == 'rock' and computer_choice == 'scissors') or \\\n",
    "         (user_play == 'scissors' and computer_choice == 'paper') or \\\n",
    "         (user_play == 'paper' and computer_choice == 'rock'):\n",
    "        return \"You win!\"\n",
    "    else:\n",
    "        return \"You lose.\"\n",
    "def main():\n",
    "    print(\"Welcome to Rock, Paper, Scissors!\")\n",
    "    while True:\n",
    "        user_play = get_user_choice()\n",
    "        computer_choice = get_computer_choice()\n",
    "        print(f\"You chose: {user_play}\")\n",
    "        print(f\"The computer chose: {computer_choice}\")\n",
    "        print(determine_winner(user_play, computer_choice))\n",
    "        play_again = input(\"Do you want to play again? (yes/no): \").lower()\n",
    "        if play_again != 'yes':\n",
    "            break\n",
    "\n",
    "if __name__ == \"__main__\":\n",
    "    main()"
   ]
  },
  {
   "cell_type": "code",
   "execution_count": null,
   "id": "fc8f37b3-e1e8-44b0-a195-cc9574952430",
   "metadata": {},
   "outputs": [],
   "source": []
  }
 ],
 "metadata": {
  "kernelspec": {
   "display_name": "Python 3 (ipykernel)",
   "language": "python",
   "name": "python3"
  },
  "language_info": {
   "codemirror_mode": {
    "name": "ipython",
    "version": 3
   },
   "file_extension": ".py",
   "mimetype": "text/x-python",
   "name": "python",
   "nbconvert_exporter": "python",
   "pygments_lexer": "ipython3",
   "version": "3.11.7"
  }
 },
 "nbformat": 4,
 "nbformat_minor": 5
}
